{
 "cells": [
  {
   "cell_type": "markdown",
   "source": [
    "Given: $I_k=a^T_k*p$ ,where $I$ is reflection intensity level, the object is to minimize the error between actual $I$ and target $I_t$ by controlling the power $p$ of lamps\n",
    "\n",
    "**Formulate this problem as an optimization problem**\n",
    "\n",
    "function: $\\underset{p}{\\text{min}}\\sum^m_{k=1}(I_k-I_t)^2 \\Rightarrow \\underset{p}{\\text{min}}\\sum^m_{k=1}(a^T_k*p-I_t)^2$\n",
    "\n",
    "**Check Convex**\n",
    "\n",
    "$\\begin{aligned}\n",
    "gradient &= 2(a_k^T*p-I_t)*a_k \\\\\n",
    "&= 2a_k^T*p*a_k-I_t*a_k \\\\\n",
    "&= 2a_ka_k^T*p-I_t*a_k \\\\\n",
    "hessian &= 2a_ka_k^T\n",
    "\\end{aligned}$\n",
    "\n",
    "$\\therefore H = 2\\sum^m_{k=1}a_ka_k^T$\n",
    "\n",
    "Lemma: $H \\in R^{n \\times n}$ <br />\n",
    "if $d^THd \\ge 0 \\ \\forall \\ d\\neq 0$ then $H$ is p.s.d\n",
    "\n",
    "$\\begin{aligned} d^THd &= 2\\sum^m_{k=1}d^T*a_ka_k^T*d \\\\\n",
    "&=2\\sum^m_{k=1}d^T*a_ka_k^T*d \\\\\n",
    "&=2\\sum^m_{k=1}(d^T*a_k)^2 \\\\\n",
    "2\\sum^m_{k=1}(d^T*a_k)^2 &\\ge 0 \\\\\n",
    "d^THd &\\ge 0\n",
    "\\end{aligned}$\n",
    "\n",
    "$\\therefore \\;$ It is a convex function\n",
    "\n",
    "$\\because \\ 0\\le p \\le p_{max}$ is a feasible domain (hypercube)\n",
    "\n",
    "$\\therefore \\;$ The problem is convex."
   ],
   "metadata": {
    "collapsed": false
   }
  },
  {
   "cell_type": "markdown",
   "source": [
    "**Check Strictly Convex**\n",
    "\n",
    "The function is stricly convex when the hessian matrix is positive definite.\n",
    "\n",
    "$d^THd \\gt 0$\n",
    "\n",
    "From previous part, known $d^THd \\ge 0$. Find the addtional condition that $d^THd \\neq 0$:\n",
    "\n",
    "$\\because H = 2\\sum^m_{k=1}a_ka_k^T$\n",
    "\n",
    "$\\therefore d^THd=\\begin{bmatrix}\n",
    "b_1 \\\\ b_2 \\\\ \\vdots \\\\ b_m\n",
    "\\end{bmatrix} * \\overset{n \\times n}H * \\begin{bmatrix}\n",
    "b_1 & b_2 \\cdots b_m\\end{bmatrix}=m \\times m$\n",
    "\n",
    "\n",
    "When $m \\ge n$, the $R^n$ space is fully defined by $a_m$, therefore, the unique solution requires the number of lumps is lower than the number of mirrors.\n",
    "\n",
    "For the limitation of maximum power, $0 \\le q_j \\le q_{max}$ define the hypercube,\n",
    "and the $\\sum^m_{j=1}q \\le q^*$ define a half space. Because the two sets are both convex set,\n",
    "the intersection among the hypercube and half space is still convex set.\n"
   ],
   "metadata": {
    "collapsed": false
   }
  }
 ],
 "metadata": {
  "kernelspec": {
   "display_name": "Python 3",
   "language": "python",
   "name": "python3"
  },
  "language_info": {
   "codemirror_mode": {
    "name": "ipython",
    "version": 2
   },
   "file_extension": ".py",
   "mimetype": "text/x-python",
   "name": "python",
   "nbconvert_exporter": "python",
   "pygments_lexer": "ipython2",
   "version": "2.7.6"
  }
 },
 "nbformat": 4,
 "nbformat_minor": 0
}