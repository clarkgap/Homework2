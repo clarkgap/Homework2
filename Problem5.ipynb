{
 "cells": [
  {
   "cell_type": "markdown",
   "source": [
    "Given: $I_k=a^T_k*p$ ,where $I$ is reflection intensity level, the object is to minimize the error between actual $I$ and target $I_t$ by controlling the power $p$ of lamps\n",
    "\n",
    "**Formulate this problem as an optimization problem**\n",
    "\n",
    "function: $\\underset{p}{\\text{min}}\\sum^m_{k=1}(I_k-I_t)^2 \\Rightarrow \\underset{p}{\\text{min}}\\sum^m_{k=1}(a^T_k*p-I_t)^2$\n",
    "\n",
    "**Check Convex**\n",
    "\n",
    "$\\begin{aligned}\n",
    "gradient &= 2(a_k^T*p-I_t)*a_k \\\\\n",
    "&= 2a_k^T*p*a_k-I_t*a_k \\\\\n",
    "&= 2a_ka_k^T*p-I_t*a_k \\\\\n",
    "hessian &= 2a_ka_k^T\n",
    "\\end{aligned}$\n",
    "\n",
    "$\\therefore H = 2\\sum^m_{k=1}a_ka_k^T$\n",
    "\n",
    "Lemma: $H \\in R^{n \\times n}$ <br />\n",
    "if $d^THd \\ge 0 \\ \\forall \\ d\\neq 0$ then $H$ is p.s.d\n",
    "\n",
    "$\\begin{aligned} d^THd &= 2\\sum^m_{k=1}d^T*a_ka_k^T*d \\\\\n",
    "&=2\\sum^m_{k=1}d^T*a_ka_k^T*d \\\\\n",
    "&=2\\sum^m_{k=1}(d^T*a_k)^2 \\\\\n",
    "2\\sum^m_{k=1}(d^T*a_k)^2 &\\ge 0 \\\\\n",
    "d^THd &\\ge 0\n",
    "\\end{aligned}$\n",
    "\n",
    "$\\therefore \\;$ It is a convex function\n",
    "\n",
    "$\\because \\ 0\\le p \\le p_{max}$ is a feasible domain\n",
    "\n",
    "$\\therefore \\;$ The problem is conex."
   ],
   "metadata": {
    "collapsed": false
   }
  },
  {
   "cell_type": "markdown",
   "source": [],
   "metadata": {
    "collapsed": false
   }
  }
 ],
 "metadata": {
  "kernelspec": {
   "display_name": "Python 3",
   "language": "python",
   "name": "python3"
  },
  "language_info": {
   "codemirror_mode": {
    "name": "ipython",
    "version": 2
   },
   "file_extension": ".py",
   "mimetype": "text/x-python",
   "name": "python",
   "nbconvert_exporter": "python",
   "pygments_lexer": "ipython2",
   "version": "2.7.6"
  }
 },
 "nbformat": 4,
 "nbformat_minor": 0
}