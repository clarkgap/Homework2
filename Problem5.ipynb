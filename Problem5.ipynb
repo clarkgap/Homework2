{
 "cells": [
  {
   "cell_type": "markdown",
   "source": [
    "Given: $I_k=a^T_k*p$ ,where $I$ is reflection intensity level, the object is to minimize the error between actual $I$ and target $I_t$ by controlling the power $p$ of lamps\n",
    "\n",
    "**Formulate this problem as an optimization problem**\n",
    "\n",
    "function: $$\\underset{p}{\\text{min}}\\sum^n_{k=1}(I_k-I_t)^2 \\Rightarrow \\underset{p}{\\text{min}}\\sum^n_{k=1}(a^T_k*p-I_t)^2$$\n",
    "\n",
    "**Check Convex**\n",
    "\n",
    "Apply the second-order necessary condition\n"
   ],
   "metadata": {
    "collapsed": false
   }
  }
 ],
 "metadata": {
  "kernelspec": {
   "display_name": "Python 3",
   "language": "python",
   "name": "python3"
  },
  "language_info": {
   "codemirror_mode": {
    "name": "ipython",
    "version": 2
   },
   "file_extension": ".py",
   "mimetype": "text/x-python",
   "name": "python",
   "nbconvert_exporter": "python",
   "pygments_lexer": "ipython2",
   "version": "2.7.6"
  }
 },
 "nbformat": 4,
 "nbformat_minor": 0
}