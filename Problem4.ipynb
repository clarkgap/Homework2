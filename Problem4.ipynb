{
 "cells": [
  {
   "cell_type": "markdown",
   "source": [
    "Suppose $f(x)$ is a scalar function, pick any point between $x_1$ and $x_1$ as $x \\subset$ **x**,\n",
    "then establish a linear function $f^*(x)$ pass $f(x_0)$ and $f(x_1)$.\n",
    "According to the definition of convex, the point on the $f^*(x)$ which correspond to $x$ should be greater than $f(x)$.\n",
    "\n",
    "Let $\\lambda(x_1-x_0)=(x-x_0)$\n",
    "\n",
    "$\\therefore$ On $f(x)$: <br />\n",
    "$\\begin{aligned}\\lambda x_1 - \\lambda x_0 &= x - x_0 \\\\\n",
    "x &= \\lambda x_1 - \\lambda x_0 + x_0 \\\\\n",
    "x &= \\lambda x_1+(1-\\lambda) x_0 \\\\\n",
    "f(x) &= f(\\lambda x_1+(1-\\lambda) x_0)\n",
    "\\end{aligned}$\n",
    "\n",
    "On linear function: <br />\n",
    "$\\begin{aligned}\\lambda f(x_1) - \\lambda f(x_0) &= f^*(x) - f(x_0) \\\\\n",
    "f^*(x) &= \\lambda f(x_1) - \\lambda f(x_0) + f(x_0) \\\\\n",
    "f^*(x) &= \\lambda f(x_1)+(1-\\lambda) f(x_0)\n",
    "\\end{aligned}$\n",
    "\n",
    "$\\because f^*(x) \\ge f(x)$ <br />\n",
    "$\\therefore \\lambda f(x_1)+(1-\\lambda) f(x_0) \\ge f(\\lambda x_1+(1-\\lambda) x_0)$\n",
    "\n",
    "$\\begin{aligned} \\lambda f(x_1)+f(x_0)-\\lambda f(x_0) &\\ge f(\\lambda x_1+x_0-\\lambda x_0) \\\\\n",
    "f(x_1) & \\ge f(x_0)+\\frac{f(\\lambda (x_1 - x_0) + x_0)-f(x_0)}{\\lambda} \\\\\n",
    "\\lim_{\\lambda \\rightarrow 0} \\frac{f(\\lambda (x_1 - x_0) + x_0)-f(x_0)}{\\lambda}&=f'(x_0)(x_1-x_0) \\\\\n",
    "f(x_1) & \\ge f(x_0)+f'(x_0)(x_1-x_0)\n",
    "\\end{aligned}$\n",
    "\n",
    "For vector function, G(x) = f'(x):\n",
    "$f(x_1) \\ge f(x_0)+g^T(x_0)(x_1-x_0)$\n",
    "\n",
    "\n"
   ],
   "metadata": {
    "collapsed": false
   }
  }
 ],
 "metadata": {
  "kernelspec": {
   "display_name": "Python 3",
   "language": "python",
   "name": "python3"
  },
  "language_info": {
   "codemirror_mode": {
    "name": "ipython",
    "version": 2
   },
   "file_extension": ".py",
   "mimetype": "text/x-python",
   "name": "python",
   "nbconvert_exporter": "python",
   "pygments_lexer": "ipython2",
   "version": "2.7.6"
  }
 },
 "nbformat": 4,
 "nbformat_minor": 0
}