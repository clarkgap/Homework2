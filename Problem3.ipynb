{
 "cells": [
  {
   "cell_type": "markdown",
   "source": [
    "**(a)**\n",
    "\n",
    "$f(x)$ & $g(x)$ are convex functions\n",
    "\n",
    "$\\therefore \\; f(\\lambda x_0+(1- \\lambda)x_1) \\le \\lambda f(x_0)+(1- \\lambda)f(x_1)$\n",
    "and $g(\\lambda x_0+(1- \\lambda)x_1) \\le \\lambda g(x_0)+(1- \\lambda)g(x_1)$\n",
    "\n",
    "$\\therefore$ <br />\n",
    "$\\begin{aligned} af(\\lambda x_0+(1- \\lambda)x_1)+ bg(\\lambda x_0+(1- \\lambda)x_1) &\\le a(\\lambda f(x_0)+(1- \\lambda)f(x_1)) + b(\\lambda g(x_0)+(1- \\lambda)g(x_1)) \\\\\n",
    "af(\\lambda x_0+(1- \\lambda)x_1)+ bg(\\lambda x_0+(1- \\lambda)x_1) &\\le a\\lambda f(x_0)+a(1- \\lambda)f(x_1) + b\\lambda g(x_0)+b(1- \\lambda)g(x_1) \\\\\n",
    "af(\\lambda x_0+(1- \\lambda)x_1)+ bg(\\lambda x_0+(1- \\lambda)x_1) &\\le \\lambda (af(x_0)+bg(x_0))+(1- \\lambda)(af(x_1)+bg(x_1)) \\\\\n",
    "\\end{aligned}$\n",
    "\n",
    "$\\therefore \\ af(x)+bg(x)$ is still a convex function"
   ],
   "metadata": {
    "collapsed": false
   }
  },
  {
   "cell_type": "markdown",
   "source": [
    "**(b)**\n",
    "\n",
    "Assume $f(x)$ and $g(x)$ are scalar functions, then the function is convex when the second order derivative of function is positive\n",
    "\n",
    "$\\frac{d}{dx} f(g(x)) = f'(g(x))*g'(x) = f''(g(x))*g'(x)^2+f'(g(x))*g'(x) \\gt 0$"
   ],
   "metadata": {
    "collapsed": false
   }
  }
 ],
 "metadata": {
  "kernelspec": {
   "display_name": "Python 3",
   "language": "python",
   "name": "python3"
  },
  "language_info": {
   "codemirror_mode": {
    "name": "ipython",
    "version": 2
   },
   "file_extension": ".py",
   "mimetype": "text/x-python",
   "name": "python",
   "nbconvert_exporter": "python",
   "pygments_lexer": "ipython2",
   "version": "2.7.6"
  }
 },
 "nbformat": 4,
 "nbformat_minor": 0
}