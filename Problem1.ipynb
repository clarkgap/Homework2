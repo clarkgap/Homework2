{
 "cells": [
  {
   "cell_type": "markdown",
   "source": [
    "### Problem 1\n",
    "$f=2x_{1}^{2} - 4x_1 x_2+ 1.5x^{2}_{2}+ x_2$\n",
    "\n",
    "Find the stationary point (Gradient = 0):\n",
    "\n",
    "$\n",
    "G=\\begin{bmatrix}\n",
    "\\frac{\\partial f}{\\partial x_1}  \\\\\n",
    "\\frac{\\partial f}{\\partial x_2}\n",
    "\\end{bmatrix}\n",
    "=\\begin{bmatrix}\n",
    "4x_1-4x_2  \\\\\n",
    "-4x_1+3x_2+1\n",
    "\\end{bmatrix}=0 \\\\\\\\\n",
    "$\n",
    "\n",
    "$\n",
    "\\therefore\n",
    "\\begin{align}\n",
    "4x_1-4x_2=0 \\\\\n",
    "-4x_1+3x_2+1=0 \\\\\n",
    "x_1=x_2 \\\\\n",
    "-x_1 = -1 \\\\\n",
    "\\end{align}\n",
    "$\n",
    "\n",
    "$\\therefore $ Stationary point:\n",
    "\n",
    "$\\\\ x=\\begin{bmatrix} 1 \\\\ 1 \\end{bmatrix}$\n",
    "\n",
    "Find the Hessian matrix at the stationary point:\n",
    "\n",
    "$\n",
    "H=\\begin{bmatrix}\n",
    "\\frac{\\partial^2 f}{\\partial x_1^2} & \\frac{\\partial^2 f}{\\partial x_1 \\partial x_2} \\\\\n",
    "\\frac{\\partial^2 f}{\\partial x_2 \\partial x_1} & \\frac{\\partial^2 f}{\\partial x_2^2}\n",
    "\\end{bmatrix}\n",
    "=\\begin{bmatrix}\n",
    "4 & -4 \\\\\n",
    "-4 & 3\n",
    "\\end{bmatrix} \\\\\\\\\n",
    "$\n",
    "\n",
    "\n",
    "$|I\\lambda-H|=0 \\\\\\\\\n",
    "\\begin{vmatrix}\n",
    "\\lambda-4 & 4 \\\\\n",
    "4 & \\lambda-3\n",
    "\\end{vmatrix} = (\\lambda-4)(\\lambda-3)-16=0 \\\\\\\\\n",
    "\\lambda^2-7\\lambda-4=0\n",
    "$"
   ],
   "metadata": {
    "collapsed": false
   }
  },
  {
   "cell_type": "code",
   "execution_count": 4,
   "outputs": [
    {
     "name": "stdout",
     "output_type": "stream",
     "text": [
      "[ 7.53112887 -0.53112887]\n"
     ]
    }
   ],
   "source": [
    "import numpy as np\n",
    "print(np.roots([1,-7,-4]))"
   ],
   "metadata": {
    "collapsed": false,
    "pycharm": {
     "name": "#%%\n"
    }
   }
  },
  {
   "cell_type": "markdown",
   "source": [
    "$\\lambda_1 = 7.53112887 \\\\\\\\\n",
    "\\lambda_2 = -0.53112887$\n",
    "$\\therefore$ H matrix has both positive and negative eigenvalues, the stationary point is a saddle point\n"
   ],
   "metadata": {
    "collapsed": false
   }
  }
 ],
 "metadata": {
  "kernelspec": {
   "name": "pycharm-c58faad1",
   "language": "python",
   "display_name": "PyCharm (Homework2)"
  },
  "language_info": {
   "codemirror_mode": {
    "name": "ipython",
    "version": 2
   },
   "file_extension": ".py",
   "mimetype": "text/x-python",
   "name": "python",
   "nbconvert_exporter": "python",
   "pygments_lexer": "ipython2",
   "version": "2.7.6"
  }
 },
 "nbformat": 4,
 "nbformat_minor": 0
}