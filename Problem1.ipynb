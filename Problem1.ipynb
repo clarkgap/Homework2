{
 "cells": [
  {
   "cell_type": "markdown",
   "metadata": {},
   "source": [
    "### Problem 1\n",
    "$f=2x_{1}^{2} - 4x_1 x_2+ 1.5x^{2}_{2}+ x_2$\n",
    "\n",
    "**Prove the stationary point is saddle point**\n",
    "\n",
    "Find the stationary point (Gradient = 0):\n",
    "\n",
    "$G=\\begin{bmatrix}\n",
    "\\frac{\\partial f}{\\partial x_1}  \\\\\n",
    "\\frac{\\partial f}{\\partial x_2}\n",
    "\\end{bmatrix}\n",
    "=\\begin{bmatrix}\n",
    "4x_1-4x_2  \\\\\n",
    "-4x_1+3x_2+1\n",
    "\\end{bmatrix}=0$\n",
    "\n",
    "$\\therefore$\n",
    "\n",
    "$\\begin{aligned}\n",
    "4x_1-4x_2&=0 \\\\\n",
    "-4x_1+3x_2+1&=0 \\\\\n",
    "x_1&=x_2 \\\\\n",
    "-x_1 &= -1 \\\\\n",
    "\\end{aligned}$\n",
    "\n",
    "$\\therefore $ Stationary point:\n",
    "\n",
    "$x=\\begin{bmatrix} 1 \\\\ 1 \\end{bmatrix}$\n",
    "\n",
    "Find the Hessian matrix at the stationary point:\n",
    "\n",
    "$\n",
    "H=\\begin{bmatrix}\n",
    "\\frac{\\partial^2 f}{\\partial x_1^2} & \\frac{\\partial^2 f}{\\partial x_1 \\partial x_2} \\\\\n",
    "\\frac{\\partial^2 f}{\\partial x_2 \\partial x_1} & \\frac{\\partial^2 f}{\\partial x_2^2}\n",
    "\\end{bmatrix}\n",
    "=\\begin{bmatrix}\n",
    "4 & -4 \\\\\n",
    "-4 & 3\n",
    "\\end{bmatrix}\n",
    "$\n",
    "\n",
    "\n",
    "$|I\\lambda-H|=0$\n",
    "\n",
    "$\\begin{vmatrix}\n",
    "\\lambda-4 & 4 \\\\\n",
    "4 & \\lambda-3\n",
    "\\end{vmatrix} = (\\lambda-4)(\\lambda-3)-16=0$\n",
    "\n",
    "$\\lambda^2-7\\lambda-4=0$"
   ]
  },
  {
   "cell_type": "code",
   "execution_count": 4,
   "metadata": {
    "pycharm": {
     "name": "#%%\n"
    }
   },
   "outputs": [
    {
     "name": "stdout",
     "output_type": "stream",
     "text": [
      "[ 7.53112887 -0.53112887]\n"
     ]
    }
   ],
   "source": [
    "import numpy as np\n",
    "print(np.roots([1,-7,-4]))"
   ]
  },
  {
   "cell_type": "markdown",
   "metadata": {},
   "source": [
    "$\\lambda_1 = 7.53112887 \\\\\\\\\n",
    "\\lambda_2 = -0.53112887$\n",
    "\n",
    "$\\therefore$ H matrix has both positive and negative eigenvalues, the stationary point is a saddle point\n",
    "\n",
    "**Find the direction that reduce $f$ at saddle point**\n",
    "\n",
    "Apply Taylor Expansion:\n",
    "\n",
    "$f=f(x_0)-g^T_{x0}(x-x_0)+\\frac{1}{2}(x-x_0)^TH_0(x-x_0)$\n",
    "\n",
    "$\\because f(x_0)$ is Constant, $g^T_{x0}(x-x_0)=0$ at saddle point, denote $\\delta{x_0}=(x-x_0)$\n",
    "\n",
    "$\\therefore \\delta{f_0}=f-f(x_0)=\\frac{1}{2}(x-x_0)^TH_0(x-x_0)=\\frac{1}{2}\\delta{x_0}^TH_0\\delta{x_0}$"
   ]
  },
  {
   "cell_type": "code",
   "execution_count": 30,
   "metadata": {
    "pycharm": {
     "name": "#%%\n"
    }
   },
   "outputs": [
    {
     "data": {
      "text/plain": "(2*x1 - 3*x2)*(2*x1 - x2)",
      "text/latex": "$\\displaystyle \\left(2 x_{1} - 3 x_{2}\\right) \\left(2 x_{1} - x_{2}\\right)$"
     },
     "execution_count": 30,
     "metadata": {},
     "output_type": "execute_result"
    }
   ],
   "source": [
    "import numpy as np\n",
    "from sympy import *\n",
    "x1, x2 = symbols('x1 x2')\n",
    "x = np.matrix([[x1],[x2]])\n",
    "H = np.matrix([[4, -4],[-4, 3]])\n",
    "xHx = x.transpose()*H*x\n",
    "factor(expand(xHx.item(0)))"
   ]
  },
  {
   "cell_type": "markdown",
   "source": [
    "$\\because \\delta{f_0} =f-f(x_0) \\lt 0$\n",
    "\n",
    "$\\frac{1}{2}\\delta{x_0}^TH_0\\delta{x_0}\n",
    "=\\frac{1}{2}\\begin{bmatrix}x_1 & x_2\\end{bmatrix}\n",
    "\\begin{bmatrix} 4 & -4 \\\\ -4 & 3 \\end{bmatrix}\n",
    "\\begin{bmatrix} x_1 \\\\ x_2 \\end{bmatrix}\n",
    "=\\frac{1}{2}(2x_1-3x_2)(2x_1-x_2) \\lt 0$\n",
    "\n",
    "$(2x_1-3x_2)(2x_1-x_2) \\lt 0$\n",
    "\n",
    "$\\therefore 2x_1-3x_2 \\lt 0$ and $2x_1-x_2 \\gt 0$ OR $2x_1-3x_2 \\gt 0$ and $2x_1-x_2 \\lt 0$"
   ],
   "metadata": {
    "collapsed": false
   }
  }
 ],
 "metadata": {
  "kernelspec": {
   "display_name": "Python 3",
   "language": "python",
   "name": "python3"
  },
  "language_info": {
   "codemirror_mode": {
    "name": "ipython",
    "version": 3
   },
   "file_extension": ".py",
   "mimetype": "text/x-python",
   "name": "python",
   "nbconvert_exporter": "python",
   "pygments_lexer": "ipython3",
   "version": "3.8.8"
  }
 },
 "nbformat": 4,
 "nbformat_minor": 1
}