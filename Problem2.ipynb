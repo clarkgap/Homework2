{
 "cells": [
  {
   "cell_type": "markdown",
   "source": [
    "**(a)**\n",
    "\n",
    "Any vector from plane to point is $v=\\begin{bmatrix} x_1+1 \\\\ x_2 \\\\ x_3-1 \\end{bmatrix}$\n",
    "\n",
    "The length of vector =$|v|=\\sqrt{(x_1+1)^2+x_2^2+(x_3-1)^2}$\n",
    "\n",
    "Define the optimization problem:\n",
    "\n",
    "$\\underset{x_1,x_2,x_3}{\\text{min}}(x_1+1)^2+x_2^2+(x_3-1)^2$ <br />\n",
    "s.t. $\\ x_1+2x_2+3x_3=1$\n",
    "\n",
    "$\\therefore \\ x_1=1-2x_2-3x_3$\n",
    "\n",
    "$\\underset{x_2,x_3}{\\text{min}} \\ (2-2x_2-3x_3)^2+x_2^2+(x_3-1)^2$"
   ],
   "metadata": {
    "collapsed": false
   }
  },
  {
   "cell_type": "code",
   "execution_count": 3,
   "outputs": [
    {
     "data": {
      "text/plain": "5*x2**2 + 12*x2*x3 - 8*x2 + 10*x3**2 - 14*x3 + 5",
      "text/latex": "$\\displaystyle 5 x_{2}^{2} + 12 x_{2} x_{3} - 8 x_{2} + 10 x_{3}^{2} - 14 x_{3} + 5$"
     },
     "execution_count": 3,
     "metadata": {},
     "output_type": "execute_result"
    }
   ],
   "source": [
    "from sympy import *\n",
    "x2, x3 = symbols('x2 x3')\n",
    "factor((2-2*x2-3*x3)**2+x2**2+(x3-1)**2)"
   ],
   "metadata": {
    "collapsed": false,
    "pycharm": {
     "name": "#%%\n"
    }
   }
  },
  {
   "cell_type": "markdown",
   "source": [
    "Find the stationary point G=0:\n",
    "\n",
    "$G=\\begin{bmatrix}\n",
    "\\frac{\\partial f}{\\partial x_2}  \\\\\n",
    "\\frac{\\partial f}{\\partial x_3}\n",
    "\\end{bmatrix}\n",
    "=\\begin{bmatrix}\n",
    "10x_2+12x_3-8  \\\\\n",
    "12x_2+20x_3-14\n",
    "\\end{bmatrix}=0$\n",
    "\n",
    "$\\therefore$\n",
    "\n",
    "$\\begin{aligned}\n",
    "10x_2+12x_3-8&=0 \\\\\n",
    "12x_2+18x_3-11&=0 \\\\\n",
    "x_2 &= -\\frac{1}{7} \\\\\n",
    "x_3 &=  \\frac{11}{14} \\\\\n",
    "x_1 &= 1- 2*(-\\frac{1}{7}) - 2*\\frac{11}{14} \\\\\n",
    " &= -\\frac{15}{14}\n",
    "\\end{aligned}$\n",
    "\n",
    "$\\therefore $ Stationary point:\n",
    "\n",
    "$x=\\begin{bmatrix} -\\frac{15}{14} \\\\ -\\frac{1}{7} \\\\ \\frac{11}{14} \\end{bmatrix}$\n",
    "\n",
    "Find the Hessian matrix at the stationary point:\n",
    "\n",
    "$\n",
    "H=\\begin{bmatrix}\n",
    "\\frac{\\partial^2 f}{\\partial x_2^2} & \\frac{\\partial^2 f}{\\partial x_2 \\partial x_3} \\\\\n",
    "\\frac{\\partial^2 f}{\\partial x_3 \\partial x_2} & \\frac{\\partial^2 f}{\\partial x_3^2}\n",
    "\\end{bmatrix}\n",
    "=\\begin{bmatrix}\n",
    "10 & 12 \\\\\n",
    "12& 20\n",
    "\\end{bmatrix}\n",
    "$\n",
    "\n",
    "$|I\\lambda-H|=0$\n",
    "\n",
    "$\\begin{vmatrix}\n",
    "\\lambda-10 & 12 \\\\\n",
    " 12& \\lambda-20\n",
    "\\end{vmatrix} = (\\lambda-10)(\\lambda-20)-144=0$"
   ],
   "metadata": {
    "collapsed": false
   }
  },
  {
   "cell_type": "code",
   "execution_count": 4,
   "outputs": [
    {
     "data": {
      "text/plain": "(lam - 28)*(lam - 2)",
      "text/latex": "$\\displaystyle \\left(lam - 28\\right) \\left(lam - 2\\right)$"
     },
     "execution_count": 4,
     "metadata": {},
     "output_type": "execute_result"
    }
   ],
   "source": [
    "\n",
    "from sympy import *\n",
    "lam = symbols('lam')\n",
    "factor((lam-10)*(lam-20)-144)"
   ],
   "metadata": {
    "collapsed": false,
    "pycharm": {
     "name": "#%%\n"
    }
   }
  },
  {
   "cell_type": "markdown",
   "source": [
    "The H matrix has two positive eigenvalues, it is a positive definite matrix, the problem is convex, and $x$ is the minimum point.\n",
    "\n",
    "**(b) 1.Gradient Descent**"
   ],
   "metadata": {
    "collapsed": false
   }
  },
  {
   "cell_type": "code",
   "execution_count": 201,
   "outputs": [
    {
     "name": "stdout",
     "output_type": "stream",
     "text": [
      "[0, 1, 2, 3, 4, 5, 6, 7, 8, 9, 10, 11, 12, 13, 14, 15, 16, 17, 18, 19, 20, 21, 22, 23, 24, 25, 26, 27, 28, 29, 30, 31, 32, 33, 34, 35, 36, 37, 38, 39, 40, 41, 42, 43, 44, 45, 46, 47, 48, 49]\n",
      "[[0.0, 0.0], array([0.0625  , 0.109375]), array([0.10986328, 0.19580078]), array([0.14542389, 0.26428223]), array([0.17178619, 0.31872964]), array([0.19098449, 0.36219818]), array([0.20460775, 0.39707492]), array([0.21389699, 0.42522498]), array([0.2257459 , 0.47098649]), array([0.22716314, 0.50022586]), array([0.22287655, 0.52006219]), array([0.20820431, 0.54894461]), array([0.124532  , 0.61427662]), array([0.08599204, 0.62803184]), array([0.03645422, 0.67896418]), array([0.02045071, 0.67844123]), array([-0.02277453,  0.70166208]), array([-0.03478701,  0.71666537]), array([-0.05054416,  0.72192391]), array([-0.06039699,  0.73242714]), array([-0.08354146,  0.74195478]), array([-0.0856678 ,  0.74706109]), array([-0.09917469,  0.75791006]), array([-0.10562305,  0.7599035 ]), array([-0.10953627,  0.76424141]), array([-0.11897805,  0.76794228]), array([-0.11977577,  0.77009513]), array([-0.12519875,  0.77452096]), array([-0.12784025,  0.77526882]), array([-0.12939171,  0.77706298]), array([-0.13131913,  0.77777804]), array([-0.13383727,  0.78031164]), array([-0.13462999,  0.78030584]), array([-0.13680127,  0.78148622]), array([-0.13741514,  0.78222939]), array([-0.13820272,  0.78250401]), array([-0.13870403,  0.78302604]), array([-0.13986305,  0.78351698]), array([-0.13997472,  0.78376751]), array([-0.14065759,  0.78431081]), array([-0.1409797 ,  0.78441549]), array([-0.14117901,  0.7846309 ]), array([-0.1416516 ,  0.78482215]), array([-0.14169378,  0.78492766]), array([-0.14196804,  0.78514919]), array([-0.14209991,  0.78518873]), array([-0.14217902,  0.78527775]), array([-0.14227544,  0.78531483]), array([-0.14240338,  0.78544092]), array([-0.14244267,  0.78544161])]\n",
      "[5.0, 3.18994140625, 2.0817477703094482, 1.4020445959758945, 0.9839740429966497, 0.7256909804992944, 0.5650309851908126, 0.4640489114129771, 0.3491899618038561, 0.303401941382214, 0.2800495407879602, 0.2507996041383276, 0.17273522862176272, 0.14889986224970908, 0.11644916534576844, 0.10962854219199958, 0.09305697225158482, 0.08795636106123883, 0.08406496707064104, 0.08109335936334539, 0.07702176618118539, 0.07619576122686933, 0.07412542345762585, 0.07348993185092567, 0.07300487848871562, 0.07234551585811388, 0.0722057620382639, 0.07186869736802937, 0.07176488298009698, 0.07168568878284276, 0.07162521811566691, 0.0715424735895338, 0.07152556117433928, 0.07148344929332584, 0.07147051561235607, 0.07146064462348178, 0.07145310478797562, 0.07144272866031187, 0.07144067543022459, 0.07143541481398152, 0.07143380310881042, 0.07143257255372948, 0.07143089104689349, 0.07143054471185373, 0.07142968813727535, 0.07142942490490967, 0.07142922402552632, 0.07142907059731485, 0.07142885970483803, 0.07142881768726372]\n",
      "(x1,x2,x3) = ( -1.071439502165902 -0.14244266863401012 0.7854416131446407 )\n"
     ]
    },
    {
     "data": {
      "text/plain": "Text(0.5, 1.0, 'Log-Linear Convergence Plot: Gradient Descent')"
     },
     "execution_count": 201,
     "metadata": {},
     "output_type": "execute_result"
    },
    {
     "data": {
      "text/plain": "<Figure size 432x288 with 1 Axes>",
      "image/png": "[encoded data removed]"
     },
     "metadata": {
      "needs_background": "light"
     },
     "output_type": "display_data"
    }
   ],
   "source": [
    "import numpy as np\n",
    "obj = lambda x: 5*x[0]**2+12*x[0]*x[1]-8*x[0]+10*x[1]**2-14*x[1]+5  # note that this is 1D. In Prob 2 it should be 2D.\n",
    "def grad(x):\n",
    "    return np.array([10*x[0]+12*x[1]-8,12*x[0]+20*x[1]-14])\n",
    "eps = 1e-3  # termination criterion\n",
    "x0 = [0.,0.]  # initial guess\n",
    "k = 0  # counter\n",
    "soln = [x0]\n",
    "fun = [obj(x0)]# use an array to store the search steps\n",
    "iteration = [k]\n",
    "x = soln[k]\n",
    "error = np.linalg.norm(grad(x))  # compute the error. Note you will need to compute the norm for 2D grads, rather than the absolute value\n",
    "\n",
    "def line_search(x):\n",
    "    a = 1.  # initialize step size\n",
    "    phi = lambda a, x: obj(x) + a*0.8*np.dot(grad(x),-grad(x))\n",
    "    while phi(a,x)<obj(x-a*grad(x)):  # if f(x+a*d)>phi(a) then backtrack. d is the search direction\n",
    "        a = 0.5*a\n",
    "    return a\n",
    "\n",
    "while error >= eps and k < 100:  # keep searching while gradient norm is larger than eps\n",
    "    a = line_search(x)\n",
    "    x = x - a*grad(x)\n",
    "    soln.append(x)\n",
    "    fun.append(obj(x))\n",
    "    error = np.linalg.norm(grad(x))\n",
    "    k += 1\n",
    "    iteration.append(k)\n",
    "\n",
    "print(iteration)\n",
    "print(soln)\n",
    "print(fun)\n",
    "x2=soln[-1][0]\n",
    "x3=soln[-1][1]\n",
    "x1=1-2*x2-3*x3\n",
    "print('(x1,x2,x3) = (',x1,x2,x3,')')\n",
    "\n",
    "import matplotlib.pyplot as plt\n",
    "plt.plot(iteration,np.log(fun-obj(np.array([-1/7,11/14]))))\n",
    "plt.xlabel('Iteration')\n",
    "plt.ylabel('Log-Error')\n",
    "plt.title('Log-Linear Convergence Plot: Gradient Descent')"
   ],
   "metadata": {
    "collapsed": false,
    "pycharm": {
     "name": "#%%\n"
    }
   }
  },
  {
   "cell_type": "markdown",
   "source": [
    "**2.Newton's Algorithm**"
   ],
   "metadata": {
    "collapsed": false
   }
  },
  {
   "cell_type": "code",
   "execution_count": 205,
   "outputs": [
    {
     "name": "stdout",
     "output_type": "stream",
     "text": [
      "(x1,x2,x3) = ( -0.9933632757450332 -0.13747332936172638 0.7561033114894954 )\n"
     ]
    },
    {
     "data": {
      "text/plain": "Text(0.5, 1.0, \"Log-Linear Convergence Plot: Newton's Algorithm\")"
     },
     "execution_count": 205,
     "metadata": {},
     "output_type": "execute_result"
    },
    {
     "data": {
      "text/plain": "<Figure size 432x288 with 1 Axes>",
      "image/png": "[encoded data removed]"
     },
     "metadata": {
      "needs_background": "light"
     },
     "output_type": "display_data"
    }
   ],
   "source": [
    "import numpy as np\n",
    "obj = lambda x: 5*x.item(0)**2+12*x.item(0)*x.item(1)-8*x.item(0)+10*x.item(1)**2-14*x.item(1)+5  # note that this is 1D. In Prob 2 it should be 2D.\n",
    "def grad(x):\n",
    "    return np.matrix([10*x.item(0)+12*x.item(1)-8,12*x.item(0)+20*x.item(1)-14])\n",
    "def hess():\n",
    "    return np.matrix([\n",
    "                     [10,12],\n",
    "                     [12,20]\n",
    "                     ])\n",
    "eps = 1e-4  # termination criterion\n",
    "x0 = np.matrix([0.,0.])  # initial guess\n",
    "k = 0  # counter\n",
    "soln = [x0]\n",
    "fun = [obj(x0)]# use an array to store the search steps\n",
    "iteration = [k]\n",
    "x = soln[k]  # start with the initial guess\n",
    "error = grad(x)*np.linalg.inv(hess())*np.transpose(grad(x))\n",
    "\n",
    "def line_search(x):\n",
    "    a = 1.\n",
    "    phi = lambda a, x: obj(x) + a*0.8*grad(x)*-np.transpose(grad(x))\n",
    "    while phi(a,x)<obj(x-a*grad(x)):  # if f(x+a*d)>phi(a) then backtrack. d is the search direction\n",
    "        a = 0.5*a\n",
    "    return a\n",
    "\n",
    "while error**2/2 >= eps and k < 1000:\n",
    "    a = line_search(x)\n",
    "    x = x - a*grad(x)*np.linalg.inv(hess())\n",
    "    soln.append(x)\n",
    "    fun.append(obj(x))\n",
    "    error = grad(x)*np.linalg.inv(hess())*np.transpose(grad(x))\n",
    "    k += 1\n",
    "    iteration.append(k)\n",
    "\n",
    "# print(soln)\n",
    "# print(fun)\n",
    "x2=soln[-1].item(0)\n",
    "x3=soln[-1].item(1)\n",
    "x1=1-2*x2-3*x3\n",
    "print('(x1,x2,x3) = (',x1,x2,x3,')')\n",
    "\n",
    "import matplotlib.pyplot as plt\n",
    "plt.plot(iteration,np.log([s-obj(np.matrix([-1/7,11/14])) for s in fun]))\n",
    "plt.xlabel('Iteration')\n",
    "plt.ylabel('Log-Error')\n",
    "plt.title(\"Log-Linear Convergence Plot: Newton's Algorithm\")"
   ],
   "metadata": {
    "collapsed": false,
    "pycharm": {
     "name": "#%%\n"
    }
   }
  }
 ],
 "metadata": {
  "kernelspec": {
   "display_name": "Python 3",
   "language": "python",
   "name": "python3"
  },
  "language_info": {
   "codemirror_mode": {
    "name": "ipython",
    "version": 2
   },
   "file_extension": ".py",
   "mimetype": "text/x-python",
   "name": "python",
   "nbconvert_exporter": "python",
   "pygments_lexer": "ipython2",
   "version": "2.7.6"
  }
 },
 "nbformat": 4,
 "nbformat_minor": 0
}