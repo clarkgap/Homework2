{
 "cells": [
  {
   "cell_type": "markdown",
   "source": [
    "**(a)**\n",
    "\n",
    "Any vector from plane to point is $v=\\begin{bmatrix} x_1+1 \\\\ x_2 \\\\ x_3-1 \\end{bmatrix}$\n",
    "\n",
    "The length of vector =$|v|=\\sqrt{(x_1+1)^2+x_2^2+(x_3-1)^2}$\n",
    "\n",
    "Define the optimization problem:\n",
    "\n",
    "$\\underset{x_1,x_2,x_3}{\\text{min}}(x_1+1)^2+x_2^2+(x_3-1)$ <br />\n",
    "s.t. $\\ x_1+2x_2+3x_3=1$\n",
    "\n"
   ],
   "metadata": {
    "collapsed": false
   }
  }
 ],
 "metadata": {
  "kernelspec": {
   "display_name": "Python 3",
   "language": "python",
   "name": "python3"
  },
  "language_info": {
   "codemirror_mode": {
    "name": "ipython",
    "version": 2
   },
   "file_extension": ".py",
   "mimetype": "text/x-python",
   "name": "python",
   "nbconvert_exporter": "python",
   "pygments_lexer": "ipython2",
   "version": "2.7.6"
  }
 },
 "nbformat": 4,
 "nbformat_minor": 0
}